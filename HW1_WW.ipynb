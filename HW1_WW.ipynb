{
  "nbformat": 4,
  "nbformat_minor": 0,
  "metadata": {
    "colab": {
      "name": "HW1_WW.ipynb",
      "provenance": [],
      "collapsed_sections": [],
      "authorship_tag": "ABX9TyPyVlt4ZvSlS+9O4ybI1VRC",
      "include_colab_link": true
    },
    "kernelspec": {
      "name": "python3",
      "display_name": "Python 3"
    },
    "language_info": {
      "name": "python"
    }
  },
  "cells": [
    {
      "cell_type": "markdown",
      "metadata": {
        "id": "view-in-github",
        "colab_type": "text"
      },
      "source": [
        "<a href=\"https://colab.research.google.com/github/wlwaters/Deep-Learning/blob/main/HW1_WW.ipynb\" target=\"_parent\"><img src=\"https://colab.research.google.com/assets/colab-badge.svg\" alt=\"Open In Colab\"/></a>"
      ]
    },
    {
      "cell_type": "code",
      "source": [
        ""
      ],
      "metadata": {
        "id": "3Y_mYb1u6918"
      },
      "execution_count": null,
      "outputs": []
    },
    {
      "cell_type": "code",
      "execution_count": 2,
      "metadata": {
        "id": "8ayvqs3WbYod"
      },
      "outputs": [],
      "source": [
        "#      EE 6183-Y01 Deep Learning  Homework #1\n",
        "#       Import packages\n",
        "import h5py\n",
        "import scipy\n",
        "import numpy as np\n",
        "from PIL import Image\n",
        "from scipy import ndimage\n",
        "import matplotlib.pyplot as plt\n",
        "#\n",
        "def load_dataset():\n",
        "  train_dataset = h5py.File('train_catvnoncat.h5',\"r\")\n",
        "  train_set_x_orig=np.array(train_dataset[\"train_set_x\"][:])\n",
        "  train_set_y_orig=np.array(train_dataset[\"train_set_y\"][:])\n",
        "  test_dataset = h5py.File('test_catvnoncat.h5',\"r\")\n",
        "  test_set_x_orig=np.array(test_dataset[\"test_set_x\"][:])\n",
        "  test_set_y_orig=np.array(test_dataset[\"test_set_y\"][:])\n",
        "\n",
        "  classes=np.array(test_dataset[\"list_classes\"][:])\n",
        "\n",
        "  train_set_y_orig=train_set_y_orig.reshape((1, train_set_y_orig.shape[0]))\n",
        "  test_set_y_orig=test_set_y_orig.reshape((1, test_set_y_orig.shape[0]))\n",
        "  return train_set_x_orig, train_set_y_orig,test_set_x_orig, test_set_y_orig,\n",
        "  classes\n",
        "#\n",
        "\n",
        "\n",
        "\n",
        "# from lr_utils import load_dataset\n",
        "\n",
        "train_set_x_orig = h5py.File(\"train_catvnoncat.h5\",'r')\n",
        "\n",
        "\n",
        "#test_set_x_orig = h5py.File(\"test_catvnoncat.h5\",'r')\n",
        "\n",
        "\n",
        "\n",
        "\n",
        "#n1=np.array(train_set_x_orig[\"train_set_x_orig\"][:])\n",
        "#print(n1)\n",
        "\n",
        "\n",
        "\n",
        "\n",
        "# Load the data sets  -- will need to account for Group 1 and Group 2 processing\n",
        "#train_set_x_orig, train_set_y, test_set_x_orig, test_set_y, classes = \n",
        "#load_dataset()\n",
        "# index=25\n",
        "\n",
        "#  plt.imshow(train_set_x_orig[index])\n",
        "#print (\"y =\" + str(train_set_x_orig[:,index]) + \", it's a ' \" + classes [np.squeeze(train_set_x_orig[:,index])].\n",
        "#     decode(\"utf-8\") + \"'picture.\")\n",
        "\n",
        "\n",
        "\n",
        "\n",
        "\n",
        "\n"
      ]
    },
    {
      "cell_type": "markdown",
      "source": [
        ""
      ],
      "metadata": {
        "id": "PP-BAJhU4_7s"
      }
    },
    {
      "cell_type": "markdown",
      "source": [
        ""
      ],
      "metadata": {
        "id": "WZffmfKD5EY-"
      }
    },
    {
      "cell_type": "code",
      "source": [
        ""
      ],
      "metadata": {
        "id": "mCHVivVBmHlM"
      },
      "execution_count": 2,
      "outputs": []
    },
    {
      "cell_type": "code",
      "source": [
        ""
      ],
      "metadata": {
        "id": "C5UJv5bBlvGJ"
      },
      "execution_count": 2,
      "outputs": []
    },
    {
      "cell_type": "markdown",
      "source": [
        ""
      ],
      "metadata": {
        "id": "8H0b5U2Hlv2X"
      }
    },
    {
      "cell_type": "markdown",
      "source": [
        "# New Section"
      ],
      "metadata": {
        "id": "KTblfELzj348"
      }
    }
  ]
}
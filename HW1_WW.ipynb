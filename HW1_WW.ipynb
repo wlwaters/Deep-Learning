{
  "nbformat": 4,
  "nbformat_minor": 0,
  "metadata": {
    "colab": {
      "name": "HW1_WW.ipynb",
      "provenance": [],
      "collapsed_sections": [],
      "authorship_tag": "ABX9TyO4ljFR3rddqvHltdoM8POo",
      "include_colab_link": true
    },
    "kernelspec": {
      "name": "python3",
      "display_name": "Python 3"
    },
    "language_info": {
      "name": "python"
    }
  },
  "cells": [
    {
      "cell_type": "markdown",
      "metadata": {
        "id": "view-in-github",
        "colab_type": "text"
      },
      "source": [
        "<a href=\"https://colab.research.google.com/github/wlwaters/Deep-Learning/blob/main/HW1_WW.ipynb\" target=\"_parent\"><img src=\"https://colab.research.google.com/assets/colab-badge.svg\" alt=\"Open In Colab\"/></a>"
      ]
    },
    {
      "cell_type": "code",
      "execution_count": 2,
      "metadata": {
        "id": "8ayvqs3WbYod"
      },
      "outputs": [],
      "source": [
        "#      EE 6183-Y01 Deep Learning  Homework #1\n",
        "#       Import packages\n",
        "import h5py\n",
        "import scipy\n",
        "import numpy as np\n",
        "from PIL import Image\n",
        "from scipy import ndimage\n",
        "import matplotlib.pyplot as plt\n",
        "# from lr_utils import load_dataset\n",
        "\n",
        "train_set_x_orig = h5py.File(\"train_catvnoncat.h5\",'r')\n",
        "\n",
        "\n",
        "#test_set_x_orig = h5py.File(\"test_catvnoncat.h5\",'r')\n",
        "\n",
        "\n",
        "\n",
        "\n",
        "#n1=np.array(train_set_x_orig[\"train_set_x_orig\"][:])\n",
        "#print(n1)\n",
        "\n",
        "\n",
        "\n",
        "\n",
        "# Load the data sets  -- will need to account for Group 1 and Group 2 processing\n",
        "#train_set_x_orig, train_set_y, test_set_x_orig, test_set_y, classes = \n",
        "#load_dataset()\n",
        "# index=25\n",
        "\n",
        "#  plt.imshow(train_set_x_orig[index])\n",
        "#print (\"y =\" + str(train_set_x_orig[:,index]) + \", it's a ' \" + classes [np.squeeze(train_set_x_orig[:,index])].\n",
        "#     decode(\"utf-8\") + \"'picture.\")\n",
        "\n",
        "\n",
        "\n",
        "\n",
        "\n",
        "\n"
      ]
    },
    {
      "cell_type": "code",
      "source": [
        ""
      ],
      "metadata": {
        "id": "mCHVivVBmHlM"
      },
      "execution_count": 2,
      "outputs": []
    },
    {
      "cell_type": "code",
      "source": [
        ""
      ],
      "metadata": {
        "id": "C5UJv5bBlvGJ"
      },
      "execution_count": 2,
      "outputs": []
    },
    {
      "cell_type": "markdown",
      "source": [
        ""
      ],
      "metadata": {
        "id": "8H0b5U2Hlv2X"
      }
    },
    {
      "cell_type": "markdown",
      "source": [
        "# New Section"
      ],
      "metadata": {
        "id": "KTblfELzj348"
      }
    }
  ]
}
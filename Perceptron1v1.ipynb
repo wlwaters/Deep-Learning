{
  "nbformat": 4,
  "nbformat_minor": 0,
  "metadata": {
    "colab": {
      "name": "Perceptron1v1.ipynb",
      "provenance": [],
      "collapsed_sections": [],
      "authorship_tag": "ABX9TyPK/GXrsEe7U2gtJTTMBfNd",
      "include_colab_link": true
    },
    "kernelspec": {
      "name": "python3",
      "display_name": "Python 3"
    },
    "language_info": {
      "name": "python"
    }
  },
  "cells": [
    {
      "cell_type": "markdown",
      "metadata": {
        "id": "view-in-github",
        "colab_type": "text"
      },
      "source": [
        "<a href=\"https://colab.research.google.com/github/wlwaters/Deep-Learning/blob/main/Perceptron1v1.ipynb\" target=\"_parent\"><img src=\"https://colab.research.google.com/assets/colab-badge.svg\" alt=\"Open In Colab\"/></a>"
      ]
    },
    {
      "cell_type": "code",
      "source": [
        ""
      ],
      "metadata": {
        "id": "3Y_mYb1u6918"
      },
      "execution_count": null,
      "outputs": []
    },
    {
      "cell_type": "code",
      "execution_count": null,
      "metadata": {
        "id": "8ayvqs3WbYod",
        "colab": {
          "base_uri": "https://localhost:8080/",
          "height": 798
        },
        "outputId": "a484043e-4647-4de9-ed44-183c910ba117"
      },
      "outputs": [
        {
          "output_type": "stream",
          "name": "stdout",
          "text": [
            "train_set_x_flatten shape: (12288, 209)\n",
            "train_set_y shape: (1, 209)\n",
            "test_set_x_flatten shape: (12288, 50)\n",
            "test_set_y  shape: (1, 50)\n",
            "sigmoid(0) =0.5\n",
            "sigmoid(9.2) = 0.9998989708060922\n",
            "Loss after iteration 0: 0.297788\n"
          ]
        },
        {
          "output_type": "stream",
          "name": "stderr",
          "text": [
            "/usr/local/lib/python3.7/dist-packages/ipykernel_launcher.py:67: RuntimeWarning: overflow encountered in exp\n"
          ]
        },
        {
          "output_type": "stream",
          "name": "stdout",
          "text": [
            "Loss after iteration 100: 0.172249\n",
            "Loss after iteration 200: 0.172249\n",
            "Loss after iteration 300: 0.172249\n",
            "Loss after iteration 400: 0.172249\n",
            "Loss after iteration 500: 0.172249\n",
            "Loss after iteration 600: 0.172249\n",
            "Loss after iteration 700: 0.172249\n",
            "Loss after iteration 800: 0.172249\n",
            "Loss after iteration 900: 0.172249\n",
            "Loss after iteration 1000: 0.172249\n",
            "Loss after iteration 1100: 0.172249\n",
            "Loss after iteration 1200: 0.172249\n",
            "Loss after iteration 1300: 0.172249\n",
            "Loss after iteration 1400: 0.172249\n",
            "Loss after iteration 1500: 0.172249\n",
            "Loss after iteration 1600: 0.172249\n",
            "Loss after iteration 1700: 0.172249\n",
            "Loss after iteration 1800: 0.172249\n",
            "Loss after iteration 1900: 0.172249\n",
            "train accuracy: 65.55023923444976 %\n",
            "test accuracy: 34.0 %\n"
          ]
        },
        {
          "output_type": "display_data",
          "data": {
            "image/png": "[encoded data removed]",
            "text/plain": [
              "<Figure size 432x288 with 1 Axes>"
            ]
          },
          "metadata": {
            "needs_background": "light"
          }
        }
      ],
      "source": [
        "#\n",
        "#      EE 6183-Y01 Deep Learning  Homework #1  Group 1 Activation and Loss\n",
        "#       Import packages\n",
        "import h5py\n",
        "import scipy\n",
        "import numpy as np\n",
        "from PIL import Image\n",
        "from scipy import ndimage\n",
        "import matplotlib.pyplot as plt\n",
        "#\n",
        "# load_datasets\n",
        "#\n",
        "train_dataset = h5py.File('train_catvnoncat.h5',\"r\")\n",
        "train_set_x_orig=np.array(train_dataset[\"train_set_x\"][:])\n",
        "train_set_y =np.array(train_dataset[\"train_set_y\"][:])\n",
        "test_dataset = h5py.File('test_catvnoncat.h5',\"r\")\n",
        "test_set_x_orig=np.array(test_dataset[\"test_set_x\"][:])\n",
        "test_set_y =np.array(test_dataset[\"test_set_y\"][:])\n",
        "\n",
        "classes=np.array(test_dataset[\"list_classes\"][:])\n",
        "\n",
        "train_set_y =train_set_y.reshape((1, train_set_y.shape[0]))\n",
        "test_set_y =test_set_y.reshape((1, test_set_y.shape[0]))\n",
        "# \n",
        "# \n",
        "# Display dataset to check accessibility\n",
        "# \n",
        "\n",
        "#index = 25\n",
        "\n",
        "#plt.imshow(train_set_x_orig[index])\n",
        "#print (\"y =\" + str(train_set_y[:,index]) + \", it's a ' \" + \n",
        "#classes [np.squeeze(train_set_y[:,index])].decode(\"utf-8\") + \"'picture.\")\n",
        "\n",
        "\n",
        "m_train = train_set_y.shape[1]\n",
        "m_test = test_set_y.shape[1]\n",
        "num_px = train_set_x_orig.shape[1]\n",
        "\n",
        "\n",
        "# We must reshape the training and test datasets into single vectors for input \n",
        "\n",
        "train_set_x_flatten = train_set_x_orig.reshape(train_set_x_orig.shape[0],\n",
        "-1).T\n",
        "test_set_x_flatten = test_set_x_orig.reshape(test_set_x_orig.shape[0], \n",
        "-1).T\n",
        "print(\"train_set_x_flatten shape: \" + str(train_set_x_flatten.shape))\n",
        "print(\"train_set_y shape: \" + str(train_set_y.shape))\n",
        "print(\"test_set_x_flatten shape: \" + str(test_set_x_flatten.shape))\n",
        "print(\"test_set_y  shape: \" + str(test_set_y.shape))\n",
        "\n",
        "# Normalize the data by divide each row of data set by 255\n",
        "\n",
        "train_set_x = train_set_x_flatten / 255\n",
        "test_set_x = test_set_x_flatten / 255\n",
        "#X = train_set_x\n",
        "#Y = train_set_y\n",
        "#X_Test = test_set_x\n",
        "# ---------------------------------------------------------------------------\n",
        "def sigmoid(z):\n",
        "  \"\"\"\n",
        "   Compute the sigmoid of z\n",
        "   Arguments: x -- A scalar od numpy array of any size\n",
        "   Return:\n",
        "   S -- sigmoid(z)\n",
        "   \"\"\"\n",
        "  s = 1 / (1 + np.exp(-z))\n",
        "  return s\n",
        "\n",
        "\n",
        "print(\"sigmoid(0) =\" + str(sigmoid(0)))\n",
        "print(\"sigmoid(9.2) = \" + str(sigmoid(9.2)))\n",
        "# -------------------------------------------------------------------------\n",
        "# dim -- size of the w vector we want\n",
        "# w -- initialized vector of shape (dim, 1)\n",
        "# b -- initialized scalar (corresponds to the bias)\n",
        "# Function creates a vector of zeroes of shape (dim, 1) for w and set b to 1\n",
        "# -------------------------------------------------------------------------\n",
        "def initialize_with_zeros(dim):\n",
        "  w = np.zeros(shape=(dim,1))\n",
        "  b = 1\n",
        "  return w,b\n",
        "# --------------------------------------------------------------------------\n",
        "# dim = 2\n",
        "# w, b = initialize_with_zeros(dim)\n",
        "# print(\"w = \" + str(w))\n",
        "# print(\"b = \" + str(b))\n",
        "\n",
        "def propagate(w,b,X,Y):\n",
        "  # Implement the loss function and its gradient for the forward and \n",
        "  # backward propagation\n",
        "  m = X.shape[1]\n",
        "  train_set_x=np.array(X)*5\n",
        "  # FORWARD PROPAGATION (GROUP 1)\n",
        "  # Activation function for Group 1 based on given function\n",
        "  # ---------------------------------------------------------\n",
        "  A = sigmoid(np.dot(w.T,train_set_x) + (3*b))\n",
        "  loss = (1.0/(2*m)) * np.sum((Y-A)*(Y-A))\n",
        "  # ---------------------------------------------------------\n",
        "  # BACKWARD PROPAGATION (TO FIND GRADS)\n",
        "  Z1 = np.dot(A, (1-A).T)\n",
        "  Z2 = np.dot(X, (Y-A).T)\n",
        "  dw = (-1.0 / m) * (Z1*Z2)\n",
        "  db = (-1.0 / m) * np.sum(Z1*(Y-A))\n",
        "  assert(dw.shape == w.shape)\n",
        "  assert(db.dtype == float)\n",
        "  loss = np.squeeze(loss)\n",
        "  assert(loss.shape == ())\n",
        "\n",
        "  grads = {\"dw\": dw, \"db\": db}\n",
        "\n",
        "  return grads, loss\n",
        "#\n",
        "# -------------------------------------------------------------------------\n",
        "#  OPTIMIZE USING GRADIENT DESCENT\n",
        "# -------------------------------------------------------------------------\n",
        "\n",
        "                                                                             \n",
        "                                                                             \n",
        "def optimize(w, b, X, Y, num_iterations, learning_rate, print_loss = False):\n",
        "  # This function optimizes w and b by running a gradient_descent algorithm\n",
        "  # w -- weights, a nump array of size (num_px * num_px *)\n",
        "  # b -- bias. a scalar\n",
        "  # X -- data of shape (num_px * num_px * 3, number of examples)\n",
        "  # Y -- true \"label\" vector (0 if non-cat, 1 if cat)\n",
        "  # num_iterations \n",
        "  # learning_rate -- learning rate of the gradient descent update rule\n",
        "  # print_loss -- True means to print the loss every 100 steps\n",
        "  #\n",
        "  # Returns\n",
        "  # params -- dictionary containing the weiths w and bias b \n",
        "  # grads -- dictionary containing the gradients of the weights and bias with\n",
        "  #          respect to the loss function\n",
        "  # Loss -- List of all the loss computed during the optimization, this will\n",
        "  #         be used to plot the learning curve\n",
        "  losses = []\n",
        "\n",
        "  for i in range(num_iterations):\n",
        "    # Loss and gradient calculation (~ 1-4 lines of code)\n",
        "    grads, loss = propagate(w, b, X, Y)\n",
        "    # Retrieve derivatives from grads\n",
        "    dw = grads[\"dw\"]\n",
        "    db = grads[\"db\"]\n",
        "    # update rule (~ 2 lines of code)\n",
        "    w = w - learning_rate * dw \n",
        "    b = b -learning_rate * db\n",
        "    # Record the losses\n",
        "    if i % 100 == 0:\n",
        "      losses.append(loss)\n",
        "    # Print the loss every 100 training examples\n",
        "    if print_loss and i % 100 == 0:\n",
        "      print(\"Loss after iteration %i: %f\" % (i, loss))\n",
        "  params = {\"w\":w, \"b\": b}\n",
        "  grads = {\"dw\": dw, \"db\": db}\n",
        "\n",
        "  return params, grads, losses\n",
        "#\n",
        "#\n",
        "# Predict --------------------------------------------------------------------\n",
        "#\n",
        "def predict(w, b, X):\n",
        "  # Predict whether the label is 0 or 1 using learned Logistics \n",
        "  # regression parameters (w,b)\n",
        "  # \n",
        "  # Returns: \n",
        "  #    Y_prediction -- a numpy array (vector) containing all predictiions\n",
        "  #                    (0/1) for the examples in X\n",
        "  #\n",
        "  m = X.shape[1]\n",
        "  Y_prediction = np.zeros((1,m))\n",
        "  w = w.reshape(X.shape[0],1)\n",
        "  # Compute vector \"A\" predicting the probabilities of a cat being present\n",
        "  # in the picture \n",
        "  #\n",
        "  A = sigmoid(np.dot(w.T,X) + b)\n",
        "  for i in range(A.shape[1]):\n",
        "    # Convert probabilities a [0,i] to actual predictions p[0,1]\n",
        "    Y_prediction[0, i] = 1 if A[0, i] > 0.5 else 0\n",
        "\n",
        "    assert(Y_prediction.shape == (1,m))\n",
        "\n",
        "    return Y_prediction\n",
        "\n",
        "### -------------------------------------------------------------------------\n",
        "\n",
        "def model(X_train, Y_train, X_test, Y_test, num_iterations=2000, learning_rate =\n",
        ".01, print_loss=False):\n",
        "#\n",
        "# initialize parameters with zeros ()\n",
        "#\n",
        "    w, b = initialize_with_zeros(X_train.shape[0])\n",
        "# Gradient descent \n",
        "    params, grads, losses = optimize(w,b, X_train, Y_train,num_iterations,\n",
        "    learning_rate, print_loss)\n",
        "    w = params[\"w\"]\n",
        "    b = params[\"b\"]\n",
        "# Predict test/test/train set examples\n",
        "    Y_prediction_test = predict(w, b, X_test)\n",
        "    Y_prediction_train = predict(w, b, X_train)\n",
        "#\n",
        "    print(\"train accuracy: {} %\".format(100 - np.mean(np.abs(Y_prediction_train\n",
        "    - Y_train)) * 100))\n",
        "    print(\"test accuracy: {} %\".format(100-np.mean(np.abs(Y_prediction_test\n",
        "    - Y_test )) * 100))\n",
        "\n",
        "    d = {\"losses\": losses,\n",
        "         \"Y_prediction_test\": Y_prediction_test,\n",
        "         \"Y_prediction_train\" : Y_prediction_train,\n",
        "         \"w\" : w,\n",
        "         \"b\" : b,\n",
        "         \"learning_rate\" : learning_rate,\n",
        "         \"num_iterations\": num_iterations}\n",
        "    return d\n",
        "# --------------------------------------------------------------------------\n",
        "# Run the model \n",
        "# --------------------------------------------------------------------------\n",
        "d = model(train_set_x, train_set_y, test_set_x, test_set_y, num_iterations = \n",
        "          2000, learning_rate=.01, print_loss = True)\n",
        "# --------------------------------------------------------------------------\n",
        "# Plot the Results\n",
        "losses = np.squeeze(d['losses'])\n",
        "plt.plot(losses)\n",
        "plt.ylabel('loss - Group 1')\n",
        "plt.xlabel('iterations (per hundreds)')\n",
        "plt.title(\"Learning rate =\" + str(d[\"learning_rate\"]))\n",
        "plt.show()\n",
        "\n",
        "\n",
        "    \n",
        "\n",
        "\n",
        "\n",
        "\n"
      ]
    },
    {
      "cell_type": "code",
      "source": [
        ""
      ],
      "metadata": {
        "id": "GB1HhvnS_Gyp"
      },
      "execution_count": null,
      "outputs": []
    },
    {
      "cell_type": "markdown",
      "source": [
        ""
      ],
      "metadata": {
        "id": "PP-BAJhU4_7s"
      }
    },
    {
      "cell_type": "markdown",
      "source": [
        ""
      ],
      "metadata": {
        "id": "WZffmfKD5EY-"
      }
    },
    {
      "cell_type": "code",
      "source": [
        ""
      ],
      "metadata": {
        "id": "mCHVivVBmHlM"
      },
      "execution_count": null,
      "outputs": []
    },
    {
      "cell_type": "code",
      "source": [
        ""
      ],
      "metadata": {
        "id": "C5UJv5bBlvGJ"
      },
      "execution_count": null,
      "outputs": []
    },
    {
      "cell_type": "markdown",
      "source": [
        ""
      ],
      "metadata": {
        "id": "8H0b5U2Hlv2X"
      }
    },
    {
      "cell_type": "markdown",
      "source": [
        "# New Section"
      ],
      "metadata": {
        "id": "KTblfELzj348"
      }
    }
  ]
}